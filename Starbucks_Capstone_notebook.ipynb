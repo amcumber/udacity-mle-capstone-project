{
 "cells": [
  {
   "cell_type": "markdown",
   "metadata": {},
   "source": [
    "# Starbucks Capstone Challenge\n",
    "\n",
    "### Introduction\n",
    "\n",
    "This data set contains simulated data that mimics customer behavior on the Starbucks rewards mobile app. Once every few days, Starbucks sends out an offer to users of the mobile app. An offer can be merely an advertisement for a drink or an actual offer such as a discount or BOGO (buy one get one free). Some users might not receive any offer during certain weeks. \n",
    "\n",
    "Not all users receive the same offer, and that is the challenge to solve with this data set.\n",
    "\n",
    "Your task is to combine transaction, demographic and offer data to determine which demographic groups respond best to which offer type. This data set is a simplified version of the real Starbucks app because the underlying simulator only has one product whereas Starbucks actually sells dozens of products.\n",
    "\n",
    "Every offer has a validity period before the offer expires. As an example, a BOGO offer might be valid for only 5 days. You'll see in the data set that informational offers have a validity period even though these ads are merely providing information about a product; for example, if an informational offer has 7 days of validity, you can assume the customer is feeling the influence of the offer for 7 days after receiving the advertisement.\n",
    "\n",
    "You'll be given transactional data showing user purchases made on the app including the timestamp of purchase and the amount of money spent on a purchase. This transactional data also has a record for each offer that a user receives as well as a record for when a user actually views the offer. There are also records for when a user completes an offer. \n",
    "\n",
    "Keep in mind as well that someone using the app might make a purchase through the app without having received an offer or seen an offer.\n",
    "\n",
    "### Example\n",
    "\n",
    "To give an example, a user could receive a discount offer buy 10 dollars get 2 off on Monday. The offer is valid for 10 days from receipt. If the customer accumulates at least 10 dollars in purchases during the validity period, the customer completes the offer.\n",
    "\n",
    "However, there are a few things to watch out for in this data set. Customers do not opt into the offers that they receive; in other words, a user can receive an offer, never actually view the offer, and still complete the offer. For example, a user might receive the \"buy 10 dollars get 2 dollars off offer\", but the user never opens the offer during the 10 day validity period. The customer spends 15 dollars during those ten days. There will be an offer completion record in the data set; however, the customer was not influenced by the offer because the customer never viewed the offer.\n",
    "\n",
    "### Cleaning\n",
    "\n",
    "This makes data cleaning especially important and tricky.\n",
    "\n",
    "You'll also want to take into account that some demographic groups will make purchases even if they don't receive an offer. From a business perspective, if a customer is going to make a 10 dollar purchase without an offer anyway, you wouldn't want to send a buy 10 dollars get 2 dollars off offer. You'll want to try to assess what a certain demographic group will buy when not receiving any offers.\n",
    "\n",
    "### Final Advice\n",
    "\n",
    "Because this is a capstone project, you are free to analyze the data any way you see fit. For example, you could build a machine learning model that predicts how much someone will spend based on demographics and offer type. Or you could build a model that predicts whether or not someone will respond to an offer. Or, you don't need to build a machine learning model at all. You could develop a set of heuristics that determine what offer you should send to each customer (i.e., 75 percent of women customers who were 35 years old responded to offer A vs 40 percent from the same demographic to offer B, so send offer A)."
   ]
  },
  {
   "cell_type": "markdown",
   "metadata": {},
   "source": [
    "# Data Sets\n",
    "\n",
    "The data is contained in three files:\n",
    "\n",
    "* portfolio.json - containing offer ids and meta data about each offer (duration, type, etc.)\n",
    "* profile.json - demographic data for each customer\n",
    "* transcript.json - records for transactions, offers received, offers viewed, and offers completed\n",
    "\n",
    "Here is the schema and explanation of each variable in the files:\n",
    "\n",
    "**portfolio.json**\n",
    "* id (string) - offer id\n",
    "* offer_type (string) - type of offer ie BOGO, discount, informational\n",
    "* difficulty (int) - minimum required spend to complete an offer\n",
    "* reward (int) - reward given for completing an offer\n",
    "* duration (int) - time for offer to be open, in days\n",
    "* channels (list of strings)\n",
    "\n",
    "**profile.json**\n",
    "* age (int) - age of the customer \n",
    "* became_member_on (int) - date when customer created an app account\n",
    "* gender (str) - gender of the customer (note some entries contain 'O' for other rather than M or F)\n",
    "* id (str) - customer id\n",
    "* income (float) - customer's income\n",
    "\n",
    "**transcript.json**\n",
    "* event (str) - record description (ie transaction, offer received, offer viewed, etc.)\n",
    "* person (str) - customer id\n",
    "* time (int) - time in hours since start of test. The data begins at time t=0\n",
    "* value - (dict of strings) - either an offer id or transaction amount depending on the record\n",
    "\n",
    "**Note:** If you are using the workspace, you will need to go to the terminal and run the command `conda update pandas` before reading in the files. This is because the version of pandas in the workspace cannot read in the transcript.json file correctly, but the newest version of pandas can. You can access the terminal from the orange icon in the top left of this notebook.  \n",
    "\n",
    "You can see how to access the terminal and how the install works using the two images below.  First you need to access the terminal:\n",
    "\n",
    "<img src=\"assets/pic1.png\"/>\n",
    "\n",
    "Then you will want to run the above command:\n",
    "\n",
    "<img src=\"assets/pic2.png\"/>\n",
    "\n",
    "Finally, when you enter back into the notebook (use the jupyter icon again), you should be able to run the below cell without any errors."
   ]
  },
  {
   "cell_type": "markdown",
   "metadata": {},
   "source": [
    "## Data Exploration"
   ]
  },
  {
   "cell_type": "code",
   "execution_count": 1,
   "metadata": {},
   "outputs": [
    {
     "name": "stdout",
     "output_type": "stream",
     "text": [
      "Requirement already satisfied: black in d:\\programdata\\miniconda3\\envs\\pytorch\\lib\\site-packages (22.3.0)\n",
      "Requirement already satisfied: isort in d:\\programdata\\miniconda3\\envs\\pytorch\\lib\\site-packages (5.10.1)\n",
      "Requirement already satisfied: scikit-learn in d:\\programdata\\miniconda3\\envs\\pytorch\\lib\\site-packages (1.1.1)\n",
      "Requirement already satisfied: platformdirs>=2 in d:\\programdata\\miniconda3\\envs\\pytorch\\lib\\site-packages (from black) (2.5.2)\n",
      "Requirement already satisfied: mypy-extensions>=0.4.3 in d:\\programdata\\miniconda3\\envs\\pytorch\\lib\\site-packages (from black) (0.4.3)\n",
      "Requirement already satisfied: click>=8.0.0 in d:\\programdata\\miniconda3\\envs\\pytorch\\lib\\site-packages (from black) (8.1.3)\n",
      "Requirement already satisfied: tomli>=1.1.0 in d:\\programdata\\miniconda3\\envs\\pytorch\\lib\\site-packages (from black) (2.0.1)\n",
      "Requirement already satisfied: typing-extensions>=3.10.0.0 in d:\\programdata\\miniconda3\\envs\\pytorch\\lib\\site-packages (from black) (4.2.0)\n",
      "Requirement already satisfied: pathspec>=0.9.0 in d:\\programdata\\miniconda3\\envs\\pytorch\\lib\\site-packages (from black) (0.9.0)\n",
      "Requirement already satisfied: scipy>=1.3.2 in d:\\programdata\\miniconda3\\envs\\pytorch\\lib\\site-packages (from scikit-learn) (1.8.1)\n",
      "Requirement already satisfied: threadpoolctl>=2.0.0 in d:\\programdata\\miniconda3\\envs\\pytorch\\lib\\site-packages (from scikit-learn) (3.1.0)\n",
      "Requirement already satisfied: numpy>=1.17.3 in d:\\programdata\\miniconda3\\envs\\pytorch\\lib\\site-packages (from scikit-learn) (1.21.3)\n",
      "Requirement already satisfied: joblib>=1.0.0 in d:\\programdata\\miniconda3\\envs\\pytorch\\lib\\site-packages (from scikit-learn) (1.1.0)\n",
      "Requirement already satisfied: colorama in d:\\programdata\\miniconda3\\envs\\pytorch\\lib\\site-packages (from click>=8.0.0->black) (0.4.4)\n"
     ]
    }
   ],
   "source": [
    "!python -m pip install black isort scikit-learn"
   ]
  },
  {
   "cell_type": "code",
   "execution_count": 2,
   "metadata": {},
   "outputs": [
    {
     "data": {
      "text/plain": [
       "'3.9.0 | packaged by conda-forge | (default, Nov 26 2020, 07:53:15) [MSC v.1916 64 bit (AMD64)]'"
      ]
     },
     "execution_count": 2,
     "metadata": {},
     "output_type": "execute_result"
    }
   ],
   "source": [
    "import sys\n",
    "sys.version"
   ]
  },
  {
   "cell_type": "code",
   "execution_count": 3,
   "metadata": {},
   "outputs": [],
   "source": [
    "%load_ext autoreload\n",
    "\n",
    "import pathlib\n",
    "import pandas as pd\n",
    "import numpy as np\n",
    "# import math\n",
    "# import json\n",
    "\n",
    "from IPython.display import display\n",
    "\n",
    "%matplotlib inline\n",
    "\n",
    "# read in the json files\n",
    "data_dir = pathlib.Path('data')\n",
    "files = {stem: data_dir / f\"{stem}.json\" \n",
    "         for stem in ('portfolio','profile', 'transcript')}\n",
    "dataframes = {key: pd.read_json(file, orient='records', lines=True)\n",
    "              for key, file in files.items()}\n",
    "portfolio = dataframes.get(\"portfolio\")\n",
    "profile = dataframes.get(\"profile\")\n",
    "transcript = dataframes.get(\"transcript\")"
   ]
  },
  {
   "cell_type": "markdown",
   "metadata": {},
   "source": [
    "## Data Exploration\n",
    "### Review DataFrames"
   ]
  },
  {
   "cell_type": "code",
   "execution_count": 4,
   "metadata": {},
   "outputs": [
    {
     "data": {
      "text/html": [
       "<div>\n",
       "<style scoped>\n",
       "    .dataframe tbody tr th:only-of-type {\n",
       "        vertical-align: middle;\n",
       "    }\n",
       "\n",
       "    .dataframe tbody tr th {\n",
       "        vertical-align: top;\n",
       "    }\n",
       "\n",
       "    .dataframe thead th {\n",
       "        text-align: right;\n",
       "    }\n",
       "</style>\n",
       "<table border=\"1\" class=\"dataframe\">\n",
       "  <thead>\n",
       "    <tr style=\"text-align: right;\">\n",
       "      <th></th>\n",
       "      <th>reward</th>\n",
       "      <th>channels</th>\n",
       "      <th>difficulty</th>\n",
       "      <th>duration</th>\n",
       "      <th>offer_type</th>\n",
       "      <th>id</th>\n",
       "    </tr>\n",
       "  </thead>\n",
       "  <tbody>\n",
       "    <tr>\n",
       "      <th>0</th>\n",
       "      <td>10</td>\n",
       "      <td>[email, mobile, social]</td>\n",
       "      <td>10</td>\n",
       "      <td>7</td>\n",
       "      <td>bogo</td>\n",
       "      <td>ae264e3637204a6fb9bb56bc8210ddfd</td>\n",
       "    </tr>\n",
       "    <tr>\n",
       "      <th>1</th>\n",
       "      <td>10</td>\n",
       "      <td>[web, email, mobile, social]</td>\n",
       "      <td>10</td>\n",
       "      <td>5</td>\n",
       "      <td>bogo</td>\n",
       "      <td>4d5c57ea9a6940dd891ad53e9dbe8da0</td>\n",
       "    </tr>\n",
       "    <tr>\n",
       "      <th>2</th>\n",
       "      <td>0</td>\n",
       "      <td>[web, email, mobile]</td>\n",
       "      <td>0</td>\n",
       "      <td>4</td>\n",
       "      <td>informational</td>\n",
       "      <td>3f207df678b143eea3cee63160fa8bed</td>\n",
       "    </tr>\n",
       "    <tr>\n",
       "      <th>3</th>\n",
       "      <td>5</td>\n",
       "      <td>[web, email, mobile]</td>\n",
       "      <td>5</td>\n",
       "      <td>7</td>\n",
       "      <td>bogo</td>\n",
       "      <td>9b98b8c7a33c4b65b9aebfe6a799e6d9</td>\n",
       "    </tr>\n",
       "    <tr>\n",
       "      <th>4</th>\n",
       "      <td>5</td>\n",
       "      <td>[web, email]</td>\n",
       "      <td>20</td>\n",
       "      <td>10</td>\n",
       "      <td>discount</td>\n",
       "      <td>0b1e1539f2cc45b7b9fa7c272da2e1d7</td>\n",
       "    </tr>\n",
       "  </tbody>\n",
       "</table>\n",
       "</div>"
      ],
      "text/plain": [
       "   reward                      channels  difficulty  duration     offer_type  \\\n",
       "0      10       [email, mobile, social]          10         7           bogo   \n",
       "1      10  [web, email, mobile, social]          10         5           bogo   \n",
       "2       0          [web, email, mobile]           0         4  informational   \n",
       "3       5          [web, email, mobile]           5         7           bogo   \n",
       "4       5                  [web, email]          20        10       discount   \n",
       "\n",
       "                                 id  \n",
       "0  ae264e3637204a6fb9bb56bc8210ddfd  \n",
       "1  4d5c57ea9a6940dd891ad53e9dbe8da0  \n",
       "2  3f207df678b143eea3cee63160fa8bed  \n",
       "3  9b98b8c7a33c4b65b9aebfe6a799e6d9  \n",
       "4  0b1e1539f2cc45b7b9fa7c272da2e1d7  "
      ]
     },
     "execution_count": 4,
     "metadata": {},
     "output_type": "execute_result"
    }
   ],
   "source": [
    "portfolio.head()"
   ]
  },
  {
   "cell_type": "code",
   "execution_count": 5,
   "metadata": {},
   "outputs": [
    {
     "data": {
      "text/html": [
       "<div>\n",
       "<style scoped>\n",
       "    .dataframe tbody tr th:only-of-type {\n",
       "        vertical-align: middle;\n",
       "    }\n",
       "\n",
       "    .dataframe tbody tr th {\n",
       "        vertical-align: top;\n",
       "    }\n",
       "\n",
       "    .dataframe thead th {\n",
       "        text-align: right;\n",
       "    }\n",
       "</style>\n",
       "<table border=\"1\" class=\"dataframe\">\n",
       "  <thead>\n",
       "    <tr style=\"text-align: right;\">\n",
       "      <th></th>\n",
       "      <th>person</th>\n",
       "      <th>event</th>\n",
       "      <th>value</th>\n",
       "      <th>time</th>\n",
       "    </tr>\n",
       "  </thead>\n",
       "  <tbody>\n",
       "    <tr>\n",
       "      <th>0</th>\n",
       "      <td>78afa995795e4d85b5d9ceeca43f5fef</td>\n",
       "      <td>offer received</td>\n",
       "      <td>{'offer id': '9b98b8c7a33c4b65b9aebfe6a799e6d9'}</td>\n",
       "      <td>0</td>\n",
       "    </tr>\n",
       "    <tr>\n",
       "      <th>1</th>\n",
       "      <td>a03223e636434f42ac4c3df47e8bac43</td>\n",
       "      <td>offer received</td>\n",
       "      <td>{'offer id': '0b1e1539f2cc45b7b9fa7c272da2e1d7'}</td>\n",
       "      <td>0</td>\n",
       "    </tr>\n",
       "    <tr>\n",
       "      <th>2</th>\n",
       "      <td>e2127556f4f64592b11af22de27a7932</td>\n",
       "      <td>offer received</td>\n",
       "      <td>{'offer id': '2906b810c7d4411798c6938adc9daaa5'}</td>\n",
       "      <td>0</td>\n",
       "    </tr>\n",
       "    <tr>\n",
       "      <th>3</th>\n",
       "      <td>8ec6ce2a7e7949b1bf142def7d0e0586</td>\n",
       "      <td>offer received</td>\n",
       "      <td>{'offer id': 'fafdcd668e3743c1bb461111dcafc2a4'}</td>\n",
       "      <td>0</td>\n",
       "    </tr>\n",
       "    <tr>\n",
       "      <th>4</th>\n",
       "      <td>68617ca6246f4fbc85e91a2a49552598</td>\n",
       "      <td>offer received</td>\n",
       "      <td>{'offer id': '4d5c57ea9a6940dd891ad53e9dbe8da0'}</td>\n",
       "      <td>0</td>\n",
       "    </tr>\n",
       "  </tbody>\n",
       "</table>\n",
       "</div>"
      ],
      "text/plain": [
       "                             person           event  \\\n",
       "0  78afa995795e4d85b5d9ceeca43f5fef  offer received   \n",
       "1  a03223e636434f42ac4c3df47e8bac43  offer received   \n",
       "2  e2127556f4f64592b11af22de27a7932  offer received   \n",
       "3  8ec6ce2a7e7949b1bf142def7d0e0586  offer received   \n",
       "4  68617ca6246f4fbc85e91a2a49552598  offer received   \n",
       "\n",
       "                                              value  time  \n",
       "0  {'offer id': '9b98b8c7a33c4b65b9aebfe6a799e6d9'}     0  \n",
       "1  {'offer id': '0b1e1539f2cc45b7b9fa7c272da2e1d7'}     0  \n",
       "2  {'offer id': '2906b810c7d4411798c6938adc9daaa5'}     0  \n",
       "3  {'offer id': 'fafdcd668e3743c1bb461111dcafc2a4'}     0  \n",
       "4  {'offer id': '4d5c57ea9a6940dd891ad53e9dbe8da0'}     0  "
      ]
     },
     "execution_count": 5,
     "metadata": {},
     "output_type": "execute_result"
    }
   ],
   "source": [
    "transcript.head()"
   ]
  },
  {
   "cell_type": "code",
   "execution_count": 6,
   "metadata": {},
   "outputs": [
    {
     "data": {
      "text/html": [
       "<div>\n",
       "<style scoped>\n",
       "    .dataframe tbody tr th:only-of-type {\n",
       "        vertical-align: middle;\n",
       "    }\n",
       "\n",
       "    .dataframe tbody tr th {\n",
       "        vertical-align: top;\n",
       "    }\n",
       "\n",
       "    .dataframe thead th {\n",
       "        text-align: right;\n",
       "    }\n",
       "</style>\n",
       "<table border=\"1\" class=\"dataframe\">\n",
       "  <thead>\n",
       "    <tr style=\"text-align: right;\">\n",
       "      <th></th>\n",
       "      <th>gender</th>\n",
       "      <th>age</th>\n",
       "      <th>id</th>\n",
       "      <th>became_member_on</th>\n",
       "      <th>income</th>\n",
       "    </tr>\n",
       "  </thead>\n",
       "  <tbody>\n",
       "    <tr>\n",
       "      <th>0</th>\n",
       "      <td>None</td>\n",
       "      <td>118</td>\n",
       "      <td>68be06ca386d4c31939f3a4f0e3dd783</td>\n",
       "      <td>20170212</td>\n",
       "      <td>NaN</td>\n",
       "    </tr>\n",
       "    <tr>\n",
       "      <th>1</th>\n",
       "      <td>F</td>\n",
       "      <td>55</td>\n",
       "      <td>0610b486422d4921ae7d2bf64640c50b</td>\n",
       "      <td>20170715</td>\n",
       "      <td>112000.0</td>\n",
       "    </tr>\n",
       "    <tr>\n",
       "      <th>2</th>\n",
       "      <td>None</td>\n",
       "      <td>118</td>\n",
       "      <td>38fe809add3b4fcf9315a9694bb96ff5</td>\n",
       "      <td>20180712</td>\n",
       "      <td>NaN</td>\n",
       "    </tr>\n",
       "    <tr>\n",
       "      <th>3</th>\n",
       "      <td>F</td>\n",
       "      <td>75</td>\n",
       "      <td>78afa995795e4d85b5d9ceeca43f5fef</td>\n",
       "      <td>20170509</td>\n",
       "      <td>100000.0</td>\n",
       "    </tr>\n",
       "    <tr>\n",
       "      <th>4</th>\n",
       "      <td>None</td>\n",
       "      <td>118</td>\n",
       "      <td>a03223e636434f42ac4c3df47e8bac43</td>\n",
       "      <td>20170804</td>\n",
       "      <td>NaN</td>\n",
       "    </tr>\n",
       "  </tbody>\n",
       "</table>\n",
       "</div>"
      ],
      "text/plain": [
       "  gender  age                                id  became_member_on    income\n",
       "0   None  118  68be06ca386d4c31939f3a4f0e3dd783          20170212       NaN\n",
       "1      F   55  0610b486422d4921ae7d2bf64640c50b          20170715  112000.0\n",
       "2   None  118  38fe809add3b4fcf9315a9694bb96ff5          20180712       NaN\n",
       "3      F   75  78afa995795e4d85b5d9ceeca43f5fef          20170509  100000.0\n",
       "4   None  118  a03223e636434f42ac4c3df47e8bac43          20170804       NaN"
      ]
     },
     "execution_count": 6,
     "metadata": {},
     "output_type": "execute_result"
    }
   ],
   "source": [
    "profile.head()"
   ]
  },
  {
   "cell_type": "markdown",
   "metadata": {},
   "source": [
    "### Review Transcript specifics"
   ]
  },
  {
   "cell_type": "markdown",
   "metadata": {},
   "source": [
    "## Data Cleaning\n",
    "\n",
    "The following cell will write a file into a local module and be loaded to clean\n",
    "the dataframes before feature engineering will be performed. This will add\n",
    "values to null that were coded as another value, expand nested data types into\n",
    "columns; such as lists; categorize columns where appropriate, and convert\n",
    "date columns into DateTime values."
   ]
  },
  {
   "cell_type": "code",
   "execution_count": 7,
   "metadata": {},
   "outputs": [],
   "source": [
    "%autoreload 2\n",
    "from capstone_tools.data_cleaners import clean"
   ]
  },
  {
   "cell_type": "code",
   "execution_count": 8,
   "metadata": {},
   "outputs": [],
   "source": [
    "clean_dataframes = {key: clean(df, key) for key, df in dataframes.items()}\n",
    "portfolio = clean_dataframes['portfolio']\n",
    "profile = clean_dataframes['profile']\n",
    "transcript = clean_dataframes['transcript']"
   ]
  },
  {
   "cell_type": "code",
   "execution_count": 9,
   "metadata": {},
   "outputs": [
    {
     "name": "stdout",
     "output_type": "stream",
     "text": [
      "Portfolio:\n"
     ]
    },
    {
     "data": {
      "text/html": [
       "<div>\n",
       "<style scoped>\n",
       "    .dataframe tbody tr th:only-of-type {\n",
       "        vertical-align: middle;\n",
       "    }\n",
       "\n",
       "    .dataframe tbody tr th {\n",
       "        vertical-align: top;\n",
       "    }\n",
       "\n",
       "    .dataframe thead th {\n",
       "        text-align: right;\n",
       "    }\n",
       "</style>\n",
       "<table border=\"1\" class=\"dataframe\">\n",
       "  <thead>\n",
       "    <tr style=\"text-align: right;\">\n",
       "      <th></th>\n",
       "      <th>reward</th>\n",
       "      <th>difficulty</th>\n",
       "      <th>duration_days</th>\n",
       "      <th>offer_type</th>\n",
       "      <th>id</th>\n",
       "      <th>web</th>\n",
       "      <th>email</th>\n",
       "      <th>mobile</th>\n",
       "      <th>social</th>\n",
       "      <th>bogo</th>\n",
       "      <th>discount</th>\n",
       "      <th>informational</th>\n",
       "      <th>duration_hours</th>\n",
       "    </tr>\n",
       "  </thead>\n",
       "  <tbody>\n",
       "    <tr>\n",
       "      <th>0</th>\n",
       "      <td>10</td>\n",
       "      <td>10</td>\n",
       "      <td>7</td>\n",
       "      <td>bogo</td>\n",
       "      <td>ae264e3637204a6fb9bb56bc8210ddfd</td>\n",
       "      <td>0</td>\n",
       "      <td>1</td>\n",
       "      <td>1</td>\n",
       "      <td>1</td>\n",
       "      <td>1</td>\n",
       "      <td>0</td>\n",
       "      <td>0</td>\n",
       "      <td>168.0</td>\n",
       "    </tr>\n",
       "    <tr>\n",
       "      <th>1</th>\n",
       "      <td>10</td>\n",
       "      <td>10</td>\n",
       "      <td>5</td>\n",
       "      <td>bogo</td>\n",
       "      <td>4d5c57ea9a6940dd891ad53e9dbe8da0</td>\n",
       "      <td>1</td>\n",
       "      <td>1</td>\n",
       "      <td>1</td>\n",
       "      <td>1</td>\n",
       "      <td>1</td>\n",
       "      <td>0</td>\n",
       "      <td>0</td>\n",
       "      <td>120.0</td>\n",
       "    </tr>\n",
       "    <tr>\n",
       "      <th>2</th>\n",
       "      <td>0</td>\n",
       "      <td>0</td>\n",
       "      <td>4</td>\n",
       "      <td>informational</td>\n",
       "      <td>3f207df678b143eea3cee63160fa8bed</td>\n",
       "      <td>1</td>\n",
       "      <td>1</td>\n",
       "      <td>1</td>\n",
       "      <td>0</td>\n",
       "      <td>0</td>\n",
       "      <td>0</td>\n",
       "      <td>1</td>\n",
       "      <td>96.0</td>\n",
       "    </tr>\n",
       "    <tr>\n",
       "      <th>3</th>\n",
       "      <td>5</td>\n",
       "      <td>5</td>\n",
       "      <td>7</td>\n",
       "      <td>bogo</td>\n",
       "      <td>9b98b8c7a33c4b65b9aebfe6a799e6d9</td>\n",
       "      <td>1</td>\n",
       "      <td>1</td>\n",
       "      <td>1</td>\n",
       "      <td>0</td>\n",
       "      <td>1</td>\n",
       "      <td>0</td>\n",
       "      <td>0</td>\n",
       "      <td>168.0</td>\n",
       "    </tr>\n",
       "    <tr>\n",
       "      <th>4</th>\n",
       "      <td>5</td>\n",
       "      <td>20</td>\n",
       "      <td>10</td>\n",
       "      <td>discount</td>\n",
       "      <td>0b1e1539f2cc45b7b9fa7c272da2e1d7</td>\n",
       "      <td>1</td>\n",
       "      <td>1</td>\n",
       "      <td>0</td>\n",
       "      <td>0</td>\n",
       "      <td>0</td>\n",
       "      <td>1</td>\n",
       "      <td>0</td>\n",
       "      <td>240.0</td>\n",
       "    </tr>\n",
       "  </tbody>\n",
       "</table>\n",
       "</div>"
      ],
      "text/plain": [
       "   reward  difficulty  duration_days     offer_type  \\\n",
       "0      10          10              7           bogo   \n",
       "1      10          10              5           bogo   \n",
       "2       0           0              4  informational   \n",
       "3       5           5              7           bogo   \n",
       "4       5          20             10       discount   \n",
       "\n",
       "                                 id  web  email  mobile  social  bogo  \\\n",
       "0  ae264e3637204a6fb9bb56bc8210ddfd    0      1       1       1     1   \n",
       "1  4d5c57ea9a6940dd891ad53e9dbe8da0    1      1       1       1     1   \n",
       "2  3f207df678b143eea3cee63160fa8bed    1      1       1       0     0   \n",
       "3  9b98b8c7a33c4b65b9aebfe6a799e6d9    1      1       1       0     1   \n",
       "4  0b1e1539f2cc45b7b9fa7c272da2e1d7    1      1       0       0     0   \n",
       "\n",
       "   discount  informational  duration_hours  \n",
       "0         0              0           168.0  \n",
       "1         0              0           120.0  \n",
       "2         0              1            96.0  \n",
       "3         0              0           168.0  \n",
       "4         1              0           240.0  "
      ]
     },
     "metadata": {},
     "output_type": "display_data"
    },
    {
     "name": "stdout",
     "output_type": "stream",
     "text": [
      "Profile:\n"
     ]
    },
    {
     "data": {
      "text/html": [
       "<div>\n",
       "<style scoped>\n",
       "    .dataframe tbody tr th:only-of-type {\n",
       "        vertical-align: middle;\n",
       "    }\n",
       "\n",
       "    .dataframe tbody tr th {\n",
       "        vertical-align: top;\n",
       "    }\n",
       "\n",
       "    .dataframe thead th {\n",
       "        text-align: right;\n",
       "    }\n",
       "</style>\n",
       "<table border=\"1\" class=\"dataframe\">\n",
       "  <thead>\n",
       "    <tr style=\"text-align: right;\">\n",
       "      <th></th>\n",
       "      <th>gender</th>\n",
       "      <th>age</th>\n",
       "      <th>id</th>\n",
       "      <th>became_member_on</th>\n",
       "      <th>income</th>\n",
       "    </tr>\n",
       "  </thead>\n",
       "  <tbody>\n",
       "    <tr>\n",
       "      <th>0</th>\n",
       "      <td>NaN</td>\n",
       "      <td>NaN</td>\n",
       "      <td>68be06ca386d4c31939f3a4f0e3dd783</td>\n",
       "      <td>2017-02-12</td>\n",
       "      <td>NaN</td>\n",
       "    </tr>\n",
       "    <tr>\n",
       "      <th>1</th>\n",
       "      <td>F</td>\n",
       "      <td>55.0</td>\n",
       "      <td>0610b486422d4921ae7d2bf64640c50b</td>\n",
       "      <td>2017-07-15</td>\n",
       "      <td>112000.0</td>\n",
       "    </tr>\n",
       "    <tr>\n",
       "      <th>2</th>\n",
       "      <td>NaN</td>\n",
       "      <td>NaN</td>\n",
       "      <td>38fe809add3b4fcf9315a9694bb96ff5</td>\n",
       "      <td>2018-07-12</td>\n",
       "      <td>NaN</td>\n",
       "    </tr>\n",
       "    <tr>\n",
       "      <th>3</th>\n",
       "      <td>F</td>\n",
       "      <td>75.0</td>\n",
       "      <td>78afa995795e4d85b5d9ceeca43f5fef</td>\n",
       "      <td>2017-05-09</td>\n",
       "      <td>100000.0</td>\n",
       "    </tr>\n",
       "    <tr>\n",
       "      <th>4</th>\n",
       "      <td>NaN</td>\n",
       "      <td>NaN</td>\n",
       "      <td>a03223e636434f42ac4c3df47e8bac43</td>\n",
       "      <td>2017-08-04</td>\n",
       "      <td>NaN</td>\n",
       "    </tr>\n",
       "  </tbody>\n",
       "</table>\n",
       "</div>"
      ],
      "text/plain": [
       "  gender   age                                id became_member_on    income\n",
       "0    NaN   NaN  68be06ca386d4c31939f3a4f0e3dd783       2017-02-12       NaN\n",
       "1      F  55.0  0610b486422d4921ae7d2bf64640c50b       2017-07-15  112000.0\n",
       "2    NaN   NaN  38fe809add3b4fcf9315a9694bb96ff5       2018-07-12       NaN\n",
       "3      F  75.0  78afa995795e4d85b5d9ceeca43f5fef       2017-05-09  100000.0\n",
       "4    NaN   NaN  a03223e636434f42ac4c3df47e8bac43       2017-08-04       NaN"
      ]
     },
     "metadata": {},
     "output_type": "display_data"
    },
    {
     "name": "stdout",
     "output_type": "stream",
     "text": [
      "Transcript:\n"
     ]
    },
    {
     "data": {
      "text/html": [
       "<div>\n",
       "<style scoped>\n",
       "    .dataframe tbody tr th:only-of-type {\n",
       "        vertical-align: middle;\n",
       "    }\n",
       "\n",
       "    .dataframe tbody tr th {\n",
       "        vertical-align: top;\n",
       "    }\n",
       "\n",
       "    .dataframe thead th {\n",
       "        text-align: right;\n",
       "    }\n",
       "</style>\n",
       "<table border=\"1\" class=\"dataframe\">\n",
       "  <thead>\n",
       "    <tr style=\"text-align: right;\">\n",
       "      <th></th>\n",
       "      <th>person</th>\n",
       "      <th>event</th>\n",
       "      <th>time</th>\n",
       "      <th>offer_id</th>\n",
       "      <th>reward</th>\n",
       "      <th>amount</th>\n",
       "    </tr>\n",
       "  </thead>\n",
       "  <tbody>\n",
       "    <tr>\n",
       "      <th>0</th>\n",
       "      <td>78afa995795e4d85b5d9ceeca43f5fef</td>\n",
       "      <td>offer received</td>\n",
       "      <td>0</td>\n",
       "      <td>9b98b8c7a33c4b65b9aebfe6a799e6d9</td>\n",
       "      <td>NaN</td>\n",
       "      <td>NaN</td>\n",
       "    </tr>\n",
       "    <tr>\n",
       "      <th>1</th>\n",
       "      <td>a03223e636434f42ac4c3df47e8bac43</td>\n",
       "      <td>offer received</td>\n",
       "      <td>0</td>\n",
       "      <td>0b1e1539f2cc45b7b9fa7c272da2e1d7</td>\n",
       "      <td>NaN</td>\n",
       "      <td>NaN</td>\n",
       "    </tr>\n",
       "    <tr>\n",
       "      <th>2</th>\n",
       "      <td>e2127556f4f64592b11af22de27a7932</td>\n",
       "      <td>offer received</td>\n",
       "      <td>0</td>\n",
       "      <td>2906b810c7d4411798c6938adc9daaa5</td>\n",
       "      <td>NaN</td>\n",
       "      <td>NaN</td>\n",
       "    </tr>\n",
       "    <tr>\n",
       "      <th>3</th>\n",
       "      <td>8ec6ce2a7e7949b1bf142def7d0e0586</td>\n",
       "      <td>offer received</td>\n",
       "      <td>0</td>\n",
       "      <td>fafdcd668e3743c1bb461111dcafc2a4</td>\n",
       "      <td>NaN</td>\n",
       "      <td>NaN</td>\n",
       "    </tr>\n",
       "    <tr>\n",
       "      <th>4</th>\n",
       "      <td>68617ca6246f4fbc85e91a2a49552598</td>\n",
       "      <td>offer received</td>\n",
       "      <td>0</td>\n",
       "      <td>4d5c57ea9a6940dd891ad53e9dbe8da0</td>\n",
       "      <td>NaN</td>\n",
       "      <td>NaN</td>\n",
       "    </tr>\n",
       "  </tbody>\n",
       "</table>\n",
       "</div>"
      ],
      "text/plain": [
       "                             person           event  time  \\\n",
       "0  78afa995795e4d85b5d9ceeca43f5fef  offer received     0   \n",
       "1  a03223e636434f42ac4c3df47e8bac43  offer received     0   \n",
       "2  e2127556f4f64592b11af22de27a7932  offer received     0   \n",
       "3  8ec6ce2a7e7949b1bf142def7d0e0586  offer received     0   \n",
       "4  68617ca6246f4fbc85e91a2a49552598  offer received     0   \n",
       "\n",
       "                           offer_id  reward  amount  \n",
       "0  9b98b8c7a33c4b65b9aebfe6a799e6d9     NaN     NaN  \n",
       "1  0b1e1539f2cc45b7b9fa7c272da2e1d7     NaN     NaN  \n",
       "2  2906b810c7d4411798c6938adc9daaa5     NaN     NaN  \n",
       "3  fafdcd668e3743c1bb461111dcafc2a4     NaN     NaN  \n",
       "4  4d5c57ea9a6940dd891ad53e9dbe8da0     NaN     NaN  "
      ]
     },
     "metadata": {},
     "output_type": "display_data"
    }
   ],
   "source": [
    "print('Portfolio:')\n",
    "display(portfolio.head())\n",
    "print('Profile:')\n",
    "display(profile.head())\n",
    "print('Transcript:')\n",
    "display(transcript.head())"
   ]
  },
  {
   "cell_type": "markdown",
   "metadata": {},
   "source": [
    "## Data Visualization"
   ]
  },
  {
   "cell_type": "code",
   "execution_count": 10,
   "metadata": {},
   "outputs": [],
   "source": [
    "%autoreload 2\n",
    "from capstone_tools.enums import Event"
   ]
  },
  {
   "cell_type": "markdown",
   "metadata": {},
   "source": [
    "Comparing Advertising types - there appears to be even distribution of web, email, mobile, and social types and more BOGO and discount types over informational"
   ]
  },
  {
   "cell_type": "markdown",
   "metadata": {},
   "source": [
    "### Portfolio Data"
   ]
  },
  {
   "cell_type": "markdown",
   "metadata": {},
   "source": [
    "Comparing offers to difficulty and reward intensities, there is not an even\n",
    "distribution, but does not appear to be skewed, the log data will need to be compared to evaluate if this is true."
   ]
  },
  {
   "cell_type": "code",
   "execution_count": 11,
   "metadata": {},
   "outputs": [
    {
     "data": {
      "text/plain": [
       "(<Figure size 1296x432 with 2 Axes>,\n",
       " array([<AxesSubplot:title={'center':'Offer Types by Category'}, xlabel='Advertising Type', ylabel='Count'>,\n",
       "        <AxesSubplot:title={'center':'Reward and Difficulty Offer Distribution'}, xlabel='Relative Intensity', ylabel='Count'>],\n",
       "       dtype=object))"
      ]
     },
     "execution_count": 11,
     "metadata": {},
     "output_type": "execute_result"
    },
    {
     "data": {
      "image/png": "[encoded data removed]",
      "text/plain": [
       "<Figure size 1296x432 with 2 Axes>"
      ]
     },
     "metadata": {
      "needs_background": "light"
     },
     "output_type": "display_data"
    }
   ],
   "source": [
    "import matplotlib.pyplot as plt\n",
    "\n",
    "def plot_offers_metrics_basic(portfolio: pd.DataFrame):\n",
    "    fig, axs = plt.subplots(1, 2, figsize=(18,6))\n",
    "    (\n",
    "        portfolio\n",
    "        .rename(columns=lambda x: x.title().replace('_', ' '))\n",
    "        .groupby('Offer Type')\n",
    "        .count()\n",
    "        [['Web', 'Email','Mobile', 'Social']]\n",
    "        .T\n",
    "        .plot(\n",
    "            kind='bar',\n",
    "            xlabel='Advertising Type',\n",
    "            ylabel='Count',\n",
    "            ax=axs[0],\n",
    "            title='Offer Types by Category',\n",
    "        )\n",
    "    )\n",
    "    (\n",
    "        pd.concat(objs=(\n",
    "            portfolio.groupby('difficulty').count()[['reward']].rename(columns=lambda _: 'Difficulty'),\n",
    "            portfolio.groupby('reward').count()[['difficulty']].rename(columns=lambda _: 'Reward')\n",
    "        ), axis=1).plot(\n",
    "            kind='bar',\n",
    "            ax=axs[1],\n",
    "            xlabel='Relative Intensity',\n",
    "            ylabel='Count',\n",
    "            title='Reward and Difficulty Offer Distribution')\n",
    "    )\n",
    "    return fig, axs\n",
    "\n",
    "plot_offers_metrics_basic(portfolio)"
   ]
  },
  {
   "cell_type": "code",
   "execution_count": 12,
   "metadata": {},
   "outputs": [
    {
     "data": {
      "image/png": "[encoded data removed]",
      "text/plain": [
       "<Figure size 1296x432 with 2 Axes>"
      ]
     },
     "metadata": {
      "needs_background": "light"
     },
     "output_type": "display_data"
    }
   ],
   "source": [
    "def plot_offers_metrics(transcript: pd.DataFrame, portfolio: pd.DataFrame):\n",
    "    offers_sent = (\n",
    "        pd.merge(\n",
    "            transcript,\n",
    "            portfolio,\n",
    "            left_on='offer_id',\n",
    "            right_on='id'\n",
    "        )\n",
    "        .query(f'event == \"{Event.received}\"')\n",
    "    )\n",
    "\n",
    "    fig, axs = plt.subplots(1, 2, figsize=(18,6))\n",
    "\n",
    "    (\n",
    "        pd.concat(objs=(\n",
    "            offers_sent.groupby('difficulty').count()[['reward_y']].rename(columns=lambda _: 'Difficulty'),\n",
    "            offers_sent.groupby('reward_y').count()[['difficulty']].rename(columns=lambda _: 'Reward')\n",
    "        ), axis=1).plot(\n",
    "            kind='bar',\n",
    "            ax=axs[0],\n",
    "            xlabel='Relative Intensity',\n",
    "            ylabel='Count',\n",
    "            title='Reward and Difficulty Offer Distribution over entire Corpus')\n",
    "    )\n",
    "\n",
    "    (\n",
    "        offers_sent\n",
    "        .rename(columns=lambda x: x.title().replace('_', ' '))\n",
    "        .groupby('Offer Type')\n",
    "        .count()\n",
    "        [['Web', 'Email','Mobile', 'Social']]\n",
    "        .T\n",
    "        .plot(\n",
    "            kind='bar',\n",
    "            xlabel='Advertising Type',\n",
    "            ylabel='Count',\n",
    "            ax=axs[1],\n",
    "            title='Offer Types by Category over entire Corpus',\n",
    "        )\n",
    "    );\n",
    "    return fig, axs\n",
    "\n",
    "plot_offers_metrics(transcript, portfolio);"
   ]
  },
  {
   "cell_type": "markdown",
   "metadata": {},
   "source": [
    "Reviewing the entire corpus, the distribution appears to be the same."
   ]
  },
  {
   "cell_type": "markdown",
   "metadata": {},
   "source": [
    "### Profile Data"
   ]
  },
  {
   "cell_type": "markdown",
   "metadata": {},
   "source": [
    "The profile data is a bit more ticky, nans exist within this dataset and some information will have to be provided as an additional category. Looking at Gender and age distributions there is a significant portion of nan values. As well as a significant skew in gender category:"
   ]
  },
  {
   "cell_type": "code",
   "execution_count": 13,
   "metadata": {},
   "outputs": [
    {
     "name": "stdout",
     "output_type": "stream",
     "text": [
      "Number of Profiles: 17000\n",
      "Number of Complete Profiles: 14825\n"
     ]
    }
   ],
   "source": [
    "print(f\"Number of Profiles: {len(profile)}\")\n",
    "print(f\"Number of Complete Profiles: {len(profile.dropna())}\")\n"
   ]
  },
  {
   "cell_type": "code",
   "execution_count": 14,
   "metadata": {},
   "outputs": [
    {
     "data": {
      "image/png": "[encoded data removed]",
      "text/plain": [
       "<Figure size 1296x432 with 2 Axes>"
      ]
     },
     "metadata": {
      "needs_background": "light"
     },
     "output_type": "display_data"
    }
   ],
   "source": [
    "def plot_gender(profile: pd.DataFrame):\n",
    "    fig, axs = plt.subplots(1, 2, figsize=(18,6))\n",
    "\n",
    "    (\n",
    "        profile\n",
    "        # .assign(gender=lambda df: df['gender'].fillna('O'))\n",
    "        .groupby('gender')\n",
    "        .count()\n",
    "        [['id']]\n",
    "        .rename(columns=lambda _: 'Gender no NaNs')\n",
    "        .plot(\n",
    "            kind='bar',\n",
    "            xlabel='Gender',\n",
    "            ylabel='Count',\n",
    "            ax=axs[0],\n",
    "            title='Profiles by Gender omitting NaNs',\n",
    "        )\n",
    "    );\n",
    "    (\n",
    "        profile\n",
    "        .assign(gender=lambda df: df['gender'].fillna('O'))\n",
    "        .groupby('gender')\n",
    "        .count()\n",
    "        [['id']]\n",
    "        .rename(columns=lambda _: 'Gender filled NaNs')\n",
    "        .plot(\n",
    "            kind='bar',\n",
    "            xlabel='Gender',\n",
    "            ylabel='Count',\n",
    "            ax=axs[1],\n",
    "            title='Profiles by Gender Assigning NaNs to \"O\"',\n",
    "        )\n",
    "    )\n",
    "    return fig, axs\n",
    "\n",
    "plot_gender(profile);"
   ]
  },
  {
   "cell_type": "markdown",
   "metadata": {},
   "source": [
    "There is significant skew in gender where Male is the most common followed by\n",
    "female and other is a significant minor population - much lower than the profiles omitting gender all together."
   ]
  },
  {
   "cell_type": "code",
   "execution_count": 15,
   "metadata": {},
   "outputs": [
    {
     "data": {
      "image/png": "[encoded data removed]",
      "text/plain": [
       "<Figure size 1296x432 with 2 Axes>"
      ]
     },
     "metadata": {
      "needs_background": "light"
     },
     "output_type": "display_data"
    }
   ],
   "source": [
    "import seaborn as sns\n",
    "\n",
    "\n",
    "def plot_age(profile):\n",
    "    fig, axs = plt.subplots(1, 2, figsize=(18,6))\n",
    "    age_profile_no_nans = (\n",
    "        profile\n",
    "        # .assign(gender=lambda df: df['age'].fillna(99))\n",
    "        # .groupby('age')\n",
    "        # .count()\n",
    "        [['age']]\n",
    "        .rename(columns=lambda _: 'Age no NaNs')\n",
    "        .dropna()\n",
    "    )\n",
    "    age_profile_with_nan = (\n",
    "        profile\n",
    "        .assign(age=lambda df: df['age'].fillna(-1))\n",
    "        # .groupby('age')\n",
    "        # .count()\n",
    "        [['age']]\n",
    "        .rename(columns=lambda _: 'Age with NaNs')\n",
    "    )\n",
    "    splots = []\n",
    "    splots.append(sns.histplot(\n",
    "        data=age_profile_no_nans,\n",
    "        x = 'Age no NaNs',\n",
    "        kde=True,\n",
    "        ax=axs[0]\n",
    "    ))\n",
    "    splots.append(sns.histplot(\n",
    "        data=age_profile_with_nan,\n",
    "        x = 'Age with NaNs',\n",
    "        kde=True,\n",
    "        ax=axs[1],\n",
    "    ))\n",
    "    splots[0].set_title('Age Distribution with NaNs ')\n",
    "    splots[1].set_title('Age Distribution with NaNs set at \"-1\"')\n",
    "    return splots\n",
    "\n",
    "plot_age(profile);"
   ]
  },
  {
   "cell_type": "markdown",
   "metadata": {},
   "source": [
    "Moreover - there appears to be use skewwedness with income and membership\n",
    "length for income, age, and gender:"
   ]
  },
  {
   "cell_type": "code",
   "execution_count": 16,
   "metadata": {},
   "outputs": [
    {
     "data": {
      "text/plain": [
       "<seaborn.axisgrid.JointGrid at 0x1ce55b0b3a0>"
      ]
     },
     "execution_count": 16,
     "metadata": {},
     "output_type": "execute_result"
    },
    {
     "data": {
      "image/png": "[encoded data removed]",
      "text/plain": [
       "<Figure size 432x432 with 3 Axes>"
      ]
     },
     "metadata": {
      "needs_background": "light"
     },
     "output_type": "display_data"
    }
   ],
   "source": [
    "sns.jointplot(data=profile, x='age', y='income', kind='hex')"
   ]
  },
  {
   "cell_type": "code",
   "execution_count": 17,
   "metadata": {},
   "outputs": [
    {
     "data": {
      "text/plain": [
       "<seaborn.axisgrid.JointGrid at 0x1ce55a48a60>"
      ]
     },
     "execution_count": 17,
     "metadata": {},
     "output_type": "execute_result"
    },
    {
     "data": {
      "image/png": "[encoded data removed]",
      "text/plain": [
       "<Figure size 432x432 with 3 Axes>"
      ]
     },
     "metadata": {
      "needs_background": "light"
     },
     "output_type": "display_data"
    }
   ],
   "source": [
    "sns.jointplot(data = profile, x='became_member_on', y='age', kind='hist', hue='gender')"
   ]
  },
  {
   "cell_type": "markdown",
   "metadata": {},
   "source": [
    "There appears to be significantly more newer members that select the non-binary gender and there appears to be much more members added between 2015 and 2016"
   ]
  },
  {
   "cell_type": "markdown",
   "metadata": {},
   "source": [
    "## Feature Generation"
   ]
  },
  {
   "cell_type": "code",
   "execution_count": 18,
   "metadata": {},
   "outputs": [],
   "source": [
    "%autoreload 2\n",
    "from capstone_tools.feature_generation import transform"
   ]
  },
  {
   "cell_type": "code",
   "execution_count": 19,
   "metadata": {},
   "outputs": [],
   "source": [
    "def get_offer_id_enum(portfolio):\n",
    "    \"\"\"Get offer ID enumerations - Note: save for later\"\"\"\n",
    "    return portfolio['id'].reset_index().set_index('id')['index'].to_dict()\n",
    "\n",
    "\n",
    "def get_enum_2_offer_id(offerid2enum):\n",
    "    \"\"\"Get enumerations key to offer ID\"\"\"\n",
    "    return {val: key for key, val in offerid2enum.items()}\n",
    "\n",
    "\n",
    "def transform_best_offer_by_person(event_df, offerid2enum):\n",
    "    \"\"\"Calculate the best offer per person\"\"\"\n",
    "    df = event_df.groupby(['person', 'offer_id']).sum()['profit']\n",
    "    max_offers = df.unstack('offer_id').fillna(0.0).idxmax(axis=1)\n",
    "    max_offers.name = 'best_offer'\n",
    "    return max_offers.apply(lambda x: offerid2enum.get(x))\n",
    "\n",
    "\n",
    "def merge_to_final_profile(profile, best_offers):\n",
    "    \"\"\"Merge best offers to profile\"\"\"\n",
    "    return pd.merge(\n",
    "        profile, \n",
    "        best_offers, \n",
    "        how='left', \n",
    "        left_on='person', \n",
    "        right_index=True\n",
    "    )\n",
    "\n",
    "transformed_dfs = {}\n",
    "\n",
    "key = 'transcript'\n",
    "transformed_dfs[key] = transform(\n",
    "    df=clean_dataframes[key],\n",
    "    key=key,\n",
    "    portfolio=clean_dataframes['portfolio'],\n",
    ")\n",
    "\n",
    "key = 'event'\n",
    "transformed_dfs[key] = transform(\n",
    "    df=transformed_dfs.get('transcript'),\n",
    "    key=key,\n",
    ")\n",
    "\n",
    "key = 'profile'\n",
    "transformed_dfs[key] = transform(\n",
    "    df=clean_dataframes[key],\n",
    "    key=key,\n",
    ")\n",
    "\n",
    "offerid2enum = get_offer_id_enum(clean_dataframes['portfolio'])\n",
    "best_offers = transform_best_offer_by_person(\n",
    "    transformed_dfs['transcript'], offerid2enum\n",
    ")\n",
    "model_data = merge_to_final_profile(transformed_dfs['profile'], best_offers)\n",
    "\n"
   ]
  },
  {
   "cell_type": "code",
   "execution_count": 20,
   "metadata": {},
   "outputs": [
    {
     "name": "stdout",
     "output_type": "stream",
     "text": [
      "Model Data - Profile Merged with best offers:\n"
     ]
    },
    {
     "data": {
      "text/html": [
       "<div>\n",
       "<style scoped>\n",
       "    .dataframe tbody tr th:only-of-type {\n",
       "        vertical-align: middle;\n",
       "    }\n",
       "\n",
       "    .dataframe tbody tr th {\n",
       "        vertical-align: top;\n",
       "    }\n",
       "\n",
       "    .dataframe thead th {\n",
       "        text-align: right;\n",
       "    }\n",
       "</style>\n",
       "<table border=\"1\" class=\"dataframe\">\n",
       "  <thead>\n",
       "    <tr style=\"text-align: right;\">\n",
       "      <th></th>\n",
       "      <th>age</th>\n",
       "      <th>person</th>\n",
       "      <th>income</th>\n",
       "      <th>gender_f</th>\n",
       "      <th>gender_m</th>\n",
       "      <th>gender_o</th>\n",
       "      <th>gender_nan</th>\n",
       "      <th>membership</th>\n",
       "      <th>best_offer</th>\n",
       "    </tr>\n",
       "  </thead>\n",
       "  <tbody>\n",
       "    <tr>\n",
       "      <th>0</th>\n",
       "      <td>NaN</td>\n",
       "      <td>68be06ca386d4c31939f3a4f0e3dd783</td>\n",
       "      <td>NaN</td>\n",
       "      <td>0</td>\n",
       "      <td>0</td>\n",
       "      <td>0</td>\n",
       "      <td>1</td>\n",
       "      <td>2599</td>\n",
       "      <td>6</td>\n",
       "    </tr>\n",
       "    <tr>\n",
       "      <th>1</th>\n",
       "      <td>55.0</td>\n",
       "      <td>0610b486422d4921ae7d2bf64640c50b</td>\n",
       "      <td>112000.0</td>\n",
       "      <td>1</td>\n",
       "      <td>0</td>\n",
       "      <td>0</td>\n",
       "      <td>0</td>\n",
       "      <td>2752</td>\n",
       "      <td>2</td>\n",
       "    </tr>\n",
       "    <tr>\n",
       "      <th>2</th>\n",
       "      <td>NaN</td>\n",
       "      <td>38fe809add3b4fcf9315a9694bb96ff5</td>\n",
       "      <td>NaN</td>\n",
       "      <td>0</td>\n",
       "      <td>0</td>\n",
       "      <td>0</td>\n",
       "      <td>1</td>\n",
       "      <td>3114</td>\n",
       "      <td>7</td>\n",
       "    </tr>\n",
       "    <tr>\n",
       "      <th>3</th>\n",
       "      <td>75.0</td>\n",
       "      <td>78afa995795e4d85b5d9ceeca43f5fef</td>\n",
       "      <td>100000.0</td>\n",
       "      <td>1</td>\n",
       "      <td>0</td>\n",
       "      <td>0</td>\n",
       "      <td>0</td>\n",
       "      <td>2685</td>\n",
       "      <td>7</td>\n",
       "    </tr>\n",
       "    <tr>\n",
       "      <th>4</th>\n",
       "      <td>NaN</td>\n",
       "      <td>a03223e636434f42ac4c3df47e8bac43</td>\n",
       "      <td>NaN</td>\n",
       "      <td>0</td>\n",
       "      <td>0</td>\n",
       "      <td>0</td>\n",
       "      <td>1</td>\n",
       "      <td>2772</td>\n",
       "      <td>4</td>\n",
       "    </tr>\n",
       "    <tr>\n",
       "      <th>...</th>\n",
       "      <td>...</td>\n",
       "      <td>...</td>\n",
       "      <td>...</td>\n",
       "      <td>...</td>\n",
       "      <td>...</td>\n",
       "      <td>...</td>\n",
       "      <td>...</td>\n",
       "      <td>...</td>\n",
       "      <td>...</td>\n",
       "    </tr>\n",
       "    <tr>\n",
       "      <th>16995</th>\n",
       "      <td>45.0</td>\n",
       "      <td>6d5f3a774f3d4714ab0c092238f3a1d7</td>\n",
       "      <td>54000.0</td>\n",
       "      <td>1</td>\n",
       "      <td>0</td>\n",
       "      <td>0</td>\n",
       "      <td>0</td>\n",
       "      <td>3076</td>\n",
       "      <td>9</td>\n",
       "    </tr>\n",
       "    <tr>\n",
       "      <th>16996</th>\n",
       "      <td>61.0</td>\n",
       "      <td>2cb4f97358b841b9a9773a7aa05a9d77</td>\n",
       "      <td>72000.0</td>\n",
       "      <td>0</td>\n",
       "      <td>1</td>\n",
       "      <td>0</td>\n",
       "      <td>0</td>\n",
       "      <td>3115</td>\n",
       "      <td>7</td>\n",
       "    </tr>\n",
       "    <tr>\n",
       "      <th>16997</th>\n",
       "      <td>49.0</td>\n",
       "      <td>01d26f638c274aa0b965d24cefe3183f</td>\n",
       "      <td>73000.0</td>\n",
       "      <td>0</td>\n",
       "      <td>1</td>\n",
       "      <td>0</td>\n",
       "      <td>0</td>\n",
       "      <td>2582</td>\n",
       "      <td>7</td>\n",
       "    </tr>\n",
       "    <tr>\n",
       "      <th>16998</th>\n",
       "      <td>83.0</td>\n",
       "      <td>9dc1421481194dcd9400aec7c9ae6366</td>\n",
       "      <td>50000.0</td>\n",
       "      <td>1</td>\n",
       "      <td>0</td>\n",
       "      <td>0</td>\n",
       "      <td>0</td>\n",
       "      <td>2257</td>\n",
       "      <td>3</td>\n",
       "    </tr>\n",
       "    <tr>\n",
       "      <th>16999</th>\n",
       "      <td>62.0</td>\n",
       "      <td>e4052622e5ba45a8b96b59aba68cf068</td>\n",
       "      <td>82000.0</td>\n",
       "      <td>1</td>\n",
       "      <td>0</td>\n",
       "      <td>0</td>\n",
       "      <td>0</td>\n",
       "      <td>2759</td>\n",
       "      <td>5</td>\n",
       "    </tr>\n",
       "  </tbody>\n",
       "</table>\n",
       "<p>17000 rows × 9 columns</p>\n",
       "</div>"
      ],
      "text/plain": [
       "        age                            person    income  gender_f  gender_m  \\\n",
       "0       NaN  68be06ca386d4c31939f3a4f0e3dd783       NaN         0         0   \n",
       "1      55.0  0610b486422d4921ae7d2bf64640c50b  112000.0         1         0   \n",
       "2       NaN  38fe809add3b4fcf9315a9694bb96ff5       NaN         0         0   \n",
       "3      75.0  78afa995795e4d85b5d9ceeca43f5fef  100000.0         1         0   \n",
       "4       NaN  a03223e636434f42ac4c3df47e8bac43       NaN         0         0   \n",
       "...     ...                               ...       ...       ...       ...   \n",
       "16995  45.0  6d5f3a774f3d4714ab0c092238f3a1d7   54000.0         1         0   \n",
       "16996  61.0  2cb4f97358b841b9a9773a7aa05a9d77   72000.0         0         1   \n",
       "16997  49.0  01d26f638c274aa0b965d24cefe3183f   73000.0         0         1   \n",
       "16998  83.0  9dc1421481194dcd9400aec7c9ae6366   50000.0         1         0   \n",
       "16999  62.0  e4052622e5ba45a8b96b59aba68cf068   82000.0         1         0   \n",
       "\n",
       "       gender_o  gender_nan  membership  best_offer  \n",
       "0             0           1        2599           6  \n",
       "1             0           0        2752           2  \n",
       "2             0           1        3114           7  \n",
       "3             0           0        2685           7  \n",
       "4             0           1        2772           4  \n",
       "...         ...         ...         ...         ...  \n",
       "16995         0           0        3076           9  \n",
       "16996         0           0        3115           7  \n",
       "16997         0           0        2582           7  \n",
       "16998         0           0        2257           3  \n",
       "16999         0           0        2759           5  \n",
       "\n",
       "[17000 rows x 9 columns]"
      ]
     },
     "metadata": {},
     "output_type": "display_data"
    }
   ],
   "source": [
    "print(\"Model Data - Profile Merged with best offers:\")\n",
    "display(model_data)\n"
   ]
  },
  {
   "cell_type": "markdown",
   "metadata": {},
   "source": [
    "**TODO: explain feature generation**"
   ]
  },
  {
   "cell_type": "markdown",
   "metadata": {},
   "source": [
    "## Final Data Preprocessing \n",
    "### Standard Scaling\n",
    "\n",
    "Nans still exist within the data and will need to be handled. This will be done\n",
    "by imputing the median value of the column using SimpleImputer."
   ]
  },
  {
   "cell_type": "code",
   "execution_count": 21,
   "metadata": {},
   "outputs": [],
   "source": [
    "from sklearn.preprocessing import StandardScaler\n",
    "from sklearn.impute import SimpleImputer\n",
    "from sklearn.pipeline import Pipeline"
   ]
  },
  {
   "cell_type": "code",
   "execution_count": 30,
   "metadata": {},
   "outputs": [],
   "source": [
    "from capstone_tools.enums import ModelDataCols as DCols\n",
    "\n",
    "def get_labels(model_data):\n",
    "    \"\"\"Get label columns from model_data\"\"\"\n",
    "    return model_data[[DCols.person, DCols.best_offer]]\n",
    "\n",
    "def get_data(model_data):\n",
    "    \"\"\"Get data columns from model_data\"\"\"\n",
    "    return model_data.drop([DCols.person, DCols.best_offer], axis=1)\n",
    "\n",
    "def make_pipeline():\n",
    "    return Pipeline([ \n",
    "        ('imputer', SimpleImputer(strategy='median')),\n",
    "        ('scaler', StandardScaler()),\n",
    "    ])"
   ]
  },
  {
   "cell_type": "code",
   "execution_count": 42,
   "metadata": {},
   "outputs": [
    {
     "data": {
      "text/html": [
       "<div>\n",
       "<style scoped>\n",
       "    .dataframe tbody tr th:only-of-type {\n",
       "        vertical-align: middle;\n",
       "    }\n",
       "\n",
       "    .dataframe tbody tr th {\n",
       "        vertical-align: top;\n",
       "    }\n",
       "\n",
       "    .dataframe thead th {\n",
       "        text-align: right;\n",
       "    }\n",
       "</style>\n",
       "<table border=\"1\" class=\"dataframe\">\n",
       "  <thead>\n",
       "    <tr style=\"text-align: right;\">\n",
       "      <th></th>\n",
       "      <th>age</th>\n",
       "      <th>income</th>\n",
       "      <th>gender_f</th>\n",
       "      <th>gender_m</th>\n",
       "      <th>gender_o</th>\n",
       "      <th>gender_nan</th>\n",
       "      <th>membership</th>\n",
       "    </tr>\n",
       "  </thead>\n",
       "  <tbody>\n",
       "    <tr>\n",
       "      <th>0</th>\n",
       "      <td>NaN</td>\n",
       "      <td>NaN</td>\n",
       "      <td>0</td>\n",
       "      <td>0</td>\n",
       "      <td>0</td>\n",
       "      <td>1</td>\n",
       "      <td>2599</td>\n",
       "    </tr>\n",
       "    <tr>\n",
       "      <th>1</th>\n",
       "      <td>55.0</td>\n",
       "      <td>112000.0</td>\n",
       "      <td>1</td>\n",
       "      <td>0</td>\n",
       "      <td>0</td>\n",
       "      <td>0</td>\n",
       "      <td>2752</td>\n",
       "    </tr>\n",
       "    <tr>\n",
       "      <th>2</th>\n",
       "      <td>NaN</td>\n",
       "      <td>NaN</td>\n",
       "      <td>0</td>\n",
       "      <td>0</td>\n",
       "      <td>0</td>\n",
       "      <td>1</td>\n",
       "      <td>3114</td>\n",
       "    </tr>\n",
       "    <tr>\n",
       "      <th>3</th>\n",
       "      <td>75.0</td>\n",
       "      <td>100000.0</td>\n",
       "      <td>1</td>\n",
       "      <td>0</td>\n",
       "      <td>0</td>\n",
       "      <td>0</td>\n",
       "      <td>2685</td>\n",
       "    </tr>\n",
       "    <tr>\n",
       "      <th>4</th>\n",
       "      <td>NaN</td>\n",
       "      <td>NaN</td>\n",
       "      <td>0</td>\n",
       "      <td>0</td>\n",
       "      <td>0</td>\n",
       "      <td>1</td>\n",
       "      <td>2772</td>\n",
       "    </tr>\n",
       "    <tr>\n",
       "      <th>...</th>\n",
       "      <td>...</td>\n",
       "      <td>...</td>\n",
       "      <td>...</td>\n",
       "      <td>...</td>\n",
       "      <td>...</td>\n",
       "      <td>...</td>\n",
       "      <td>...</td>\n",
       "    </tr>\n",
       "    <tr>\n",
       "      <th>16995</th>\n",
       "      <td>45.0</td>\n",
       "      <td>54000.0</td>\n",
       "      <td>1</td>\n",
       "      <td>0</td>\n",
       "      <td>0</td>\n",
       "      <td>0</td>\n",
       "      <td>3076</td>\n",
       "    </tr>\n",
       "    <tr>\n",
       "      <th>16996</th>\n",
       "      <td>61.0</td>\n",
       "      <td>72000.0</td>\n",
       "      <td>0</td>\n",
       "      <td>1</td>\n",
       "      <td>0</td>\n",
       "      <td>0</td>\n",
       "      <td>3115</td>\n",
       "    </tr>\n",
       "    <tr>\n",
       "      <th>16997</th>\n",
       "      <td>49.0</td>\n",
       "      <td>73000.0</td>\n",
       "      <td>0</td>\n",
       "      <td>1</td>\n",
       "      <td>0</td>\n",
       "      <td>0</td>\n",
       "      <td>2582</td>\n",
       "    </tr>\n",
       "    <tr>\n",
       "      <th>16998</th>\n",
       "      <td>83.0</td>\n",
       "      <td>50000.0</td>\n",
       "      <td>1</td>\n",
       "      <td>0</td>\n",
       "      <td>0</td>\n",
       "      <td>0</td>\n",
       "      <td>2257</td>\n",
       "    </tr>\n",
       "    <tr>\n",
       "      <th>16999</th>\n",
       "      <td>62.0</td>\n",
       "      <td>82000.0</td>\n",
       "      <td>1</td>\n",
       "      <td>0</td>\n",
       "      <td>0</td>\n",
       "      <td>0</td>\n",
       "      <td>2759</td>\n",
       "    </tr>\n",
       "  </tbody>\n",
       "</table>\n",
       "<p>17000 rows × 7 columns</p>\n",
       "</div>"
      ],
      "text/plain": [
       "        age    income  gender_f  gender_m  gender_o  gender_nan  membership\n",
       "0       NaN       NaN         0         0         0           1        2599\n",
       "1      55.0  112000.0         1         0         0           0        2752\n",
       "2       NaN       NaN         0         0         0           1        3114\n",
       "3      75.0  100000.0         1         0         0           0        2685\n",
       "4       NaN       NaN         0         0         0           1        2772\n",
       "...     ...       ...       ...       ...       ...         ...         ...\n",
       "16995  45.0   54000.0         1         0         0           0        3076\n",
       "16996  61.0   72000.0         0         1         0           0        3115\n",
       "16997  49.0   73000.0         0         1         0           0        2582\n",
       "16998  83.0   50000.0         1         0         0           0        2257\n",
       "16999  62.0   82000.0         1         0         0           0        2759\n",
       "\n",
       "[17000 rows x 7 columns]"
      ]
     },
     "execution_count": 42,
     "metadata": {},
     "output_type": "execute_result"
    }
   ],
   "source": [
    "labels = get_labels(model_data)\n",
    "data = get_data(model_data)\n",
    "data"
   ]
  },
  {
   "cell_type": "code",
   "execution_count": 47,
   "metadata": {},
   "outputs": [
    {
     "data": {
      "text/html": [
       "<div>\n",
       "<style scoped>\n",
       "    .dataframe tbody tr th:only-of-type {\n",
       "        vertical-align: middle;\n",
       "    }\n",
       "\n",
       "    .dataframe tbody tr th {\n",
       "        vertical-align: top;\n",
       "    }\n",
       "\n",
       "    .dataframe thead th {\n",
       "        text-align: right;\n",
       "    }\n",
       "</style>\n",
       "<table border=\"1\" class=\"dataframe\">\n",
       "  <thead>\n",
       "    <tr style=\"text-align: right;\">\n",
       "      <th></th>\n",
       "      <th>age</th>\n",
       "      <th>income</th>\n",
       "      <th>gender_f</th>\n",
       "      <th>gender_m</th>\n",
       "      <th>gender_o</th>\n",
       "      <th>gender_nan</th>\n",
       "      <th>membership</th>\n",
       "    </tr>\n",
       "  </thead>\n",
       "  <tbody>\n",
       "    <tr>\n",
       "      <th>0</th>\n",
       "      <td>0.032578</td>\n",
       "      <td>-0.060733</td>\n",
       "      <td>-0.750862</td>\n",
       "      <td>-0.998119</td>\n",
       "      <td>-0.112375</td>\n",
       "      <td>2.610765</td>\n",
       "      <td>-0.028088</td>\n",
       "    </tr>\n",
       "    <tr>\n",
       "      <th>1</th>\n",
       "      <td>0.032578</td>\n",
       "      <td>2.318549</td>\n",
       "      <td>1.331803</td>\n",
       "      <td>-0.998119</td>\n",
       "      <td>-0.112375</td>\n",
       "      <td>-0.383030</td>\n",
       "      <td>0.343983</td>\n",
       "    </tr>\n",
       "    <tr>\n",
       "      <th>2</th>\n",
       "      <td>0.032578</td>\n",
       "      <td>-0.060733</td>\n",
       "      <td>-0.750862</td>\n",
       "      <td>-0.998119</td>\n",
       "      <td>-0.112375</td>\n",
       "      <td>2.610765</td>\n",
       "      <td>1.224308</td>\n",
       "    </tr>\n",
       "    <tr>\n",
       "      <th>3</th>\n",
       "      <td>1.264535</td>\n",
       "      <td>1.723728</td>\n",
       "      <td>1.331803</td>\n",
       "      <td>-0.998119</td>\n",
       "      <td>-0.112375</td>\n",
       "      <td>-0.383030</td>\n",
       "      <td>0.181050</td>\n",
       "    </tr>\n",
       "    <tr>\n",
       "      <th>4</th>\n",
       "      <td>0.032578</td>\n",
       "      <td>-0.060733</td>\n",
       "      <td>-0.750862</td>\n",
       "      <td>-0.998119</td>\n",
       "      <td>-0.112375</td>\n",
       "      <td>2.610765</td>\n",
       "      <td>0.392620</td>\n",
       "    </tr>\n",
       "    <tr>\n",
       "      <th>...</th>\n",
       "      <td>...</td>\n",
       "      <td>...</td>\n",
       "      <td>...</td>\n",
       "      <td>...</td>\n",
       "      <td>...</td>\n",
       "      <td>...</td>\n",
       "      <td>...</td>\n",
       "    </tr>\n",
       "    <tr>\n",
       "      <th>16995</th>\n",
       "      <td>-0.583401</td>\n",
       "      <td>-0.556417</td>\n",
       "      <td>1.331803</td>\n",
       "      <td>-0.998119</td>\n",
       "      <td>-0.112375</td>\n",
       "      <td>-0.383030</td>\n",
       "      <td>1.131898</td>\n",
       "    </tr>\n",
       "    <tr>\n",
       "      <th>16996</th>\n",
       "      <td>0.402165</td>\n",
       "      <td>0.335814</td>\n",
       "      <td>-0.750862</td>\n",
       "      <td>1.001884</td>\n",
       "      <td>-0.112375</td>\n",
       "      <td>-0.383030</td>\n",
       "      <td>1.226740</td>\n",
       "    </tr>\n",
       "    <tr>\n",
       "      <th>16997</th>\n",
       "      <td>-0.337009</td>\n",
       "      <td>0.385382</td>\n",
       "      <td>-0.750862</td>\n",
       "      <td>1.001884</td>\n",
       "      <td>-0.112375</td>\n",
       "      <td>-0.383030</td>\n",
       "      <td>-0.069429</td>\n",
       "    </tr>\n",
       "    <tr>\n",
       "      <th>16998</th>\n",
       "      <td>1.757318</td>\n",
       "      <td>-0.754690</td>\n",
       "      <td>1.331803</td>\n",
       "      <td>-0.998119</td>\n",
       "      <td>-0.112375</td>\n",
       "      <td>-0.383030</td>\n",
       "      <td>-0.859776</td>\n",
       "    </tr>\n",
       "    <tr>\n",
       "      <th>16999</th>\n",
       "      <td>0.463763</td>\n",
       "      <td>0.831498</td>\n",
       "      <td>1.331803</td>\n",
       "      <td>-0.998119</td>\n",
       "      <td>-0.112375</td>\n",
       "      <td>-0.383030</td>\n",
       "      <td>0.361006</td>\n",
       "    </tr>\n",
       "  </tbody>\n",
       "</table>\n",
       "<p>17000 rows × 7 columns</p>\n",
       "</div>"
      ],
      "text/plain": [
       "            age    income  gender_f  gender_m  gender_o  gender_nan  \\\n",
       "0      0.032578 -0.060733 -0.750862 -0.998119 -0.112375    2.610765   \n",
       "1      0.032578  2.318549  1.331803 -0.998119 -0.112375   -0.383030   \n",
       "2      0.032578 -0.060733 -0.750862 -0.998119 -0.112375    2.610765   \n",
       "3      1.264535  1.723728  1.331803 -0.998119 -0.112375   -0.383030   \n",
       "4      0.032578 -0.060733 -0.750862 -0.998119 -0.112375    2.610765   \n",
       "...         ...       ...       ...       ...       ...         ...   \n",
       "16995 -0.583401 -0.556417  1.331803 -0.998119 -0.112375   -0.383030   \n",
       "16996  0.402165  0.335814 -0.750862  1.001884 -0.112375   -0.383030   \n",
       "16997 -0.337009  0.385382 -0.750862  1.001884 -0.112375   -0.383030   \n",
       "16998  1.757318 -0.754690  1.331803 -0.998119 -0.112375   -0.383030   \n",
       "16999  0.463763  0.831498  1.331803 -0.998119 -0.112375   -0.383030   \n",
       "\n",
       "       membership  \n",
       "0       -0.028088  \n",
       "1        0.343983  \n",
       "2        1.224308  \n",
       "3        0.181050  \n",
       "4        0.392620  \n",
       "...           ...  \n",
       "16995    1.131898  \n",
       "16996    1.226740  \n",
       "16997   -0.069429  \n",
       "16998   -0.859776  \n",
       "16999    0.361006  \n",
       "\n",
       "[17000 rows x 7 columns]"
      ]
     },
     "metadata": {},
     "output_type": "display_data"
    }
   ],
   "source": [
    "def scale_data(data):\n",
    "    preprocessor = make_pipeline()\n",
    "    data_scaled = preprocessor.fit_transform(data)\n",
    "    return pd.DataFrame(\n",
    "        data=data_scaled, columns=data.columns, index=data.index\n",
    "    )\n",
    "\n",
    "data_scaled = scale_data(data)\n",
    "display(data_scaled)"
   ]
  },
  {
   "cell_type": "markdown",
   "metadata": {},
   "source": [
    "### Train, Test, Validation Sets"
   ]
  },
  {
   "cell_type": "code",
   "execution_count": 46,
   "metadata": {},
   "outputs": [],
   "source": [
    "import pickle\n",
    "\n",
    "def write_col_names(location: pathlib.Path, data: pd.DataFrame):\n",
    "    \"\"\"Write column names to location\"\"\"\n",
    "    file = location.joinpath('col_names.pkl')\n",
    "    with open(file, 'wb') as fh:\n",
    "        pickle.dump(data.columns, fh)\n",
    "\n",
    "root = pathlib.Path('data/processed')\n",
    "root.mkdir(exist_ok=True, parents=True)\n",
    "write_col_names(root, data)"
   ]
  },
  {
   "cell_type": "code",
   "execution_count": 54,
   "metadata": {},
   "outputs": [],
   "source": [
    "import pathlib\n",
    "from dataclasses import dataclass\n",
    "import pickle\n",
    "import numpy as np\n",
    "\n",
    "from capstone_tools.data_splitting import PreSplitData, process_scaled_data\n",
    "\n",
    "val_splits = 0.2\n",
    "test_splits = 0.2\n",
    "data_cargo = PreSplitData(data_scaled, labels, test_splits, val_splits)\n",
    "root = pathlib.Path('.')\n",
    "location = root / \"data/processed\"\n",
    "\n",
    "process_scaled_data(data_cargo, location)\n"
   ]
  },
  {
   "cell_type": "markdown",
   "metadata": {},
   "source": [
    "## PCA"
   ]
  },
  {
   "cell_type": "markdown",
   "metadata": {},
   "source": [
    "\n",
    "*Can start from here if you have saved your data*"
   ]
  },
  {
   "cell_type": "code",
   "execution_count": 59,
   "metadata": {},
   "outputs": [],
   "source": [
    "import pathlib\n",
    "import numpy as np\n",
    "import pandas as pd\n",
    "\n",
    "from capstone_tools.data_loaders import load_dataset\n",
    "\n",
    "root = pathlib.Path('data/processed')\n",
    "train_loc = root.joinpath('train')\n",
    "train_data, train_labels = load_dataset(train_loc)"
   ]
  },
  {
   "cell_type": "code",
   "execution_count": 65,
   "metadata": {},
   "outputs": [
    {
     "data": {
      "image/png": "[encoded data removed]",
      "text/plain": [
       "<Figure size 720x576 with 1 Axes>"
      ]
     },
     "metadata": {
      "needs_background": "light"
     },
     "output_type": "display_data"
    }
   ],
   "source": [
    "from sklearn.decomposition import PCA\n",
    "\n",
    "pcas = (PCA() for _ in range(1))\n",
    "\n",
    "fig, ax = plt.subplots(1, 1, figsize=(10, 8))\n",
    "dataset = (train_data,)\n",
    "names = (\"Model\",)\n",
    "axs = (ax,)\n",
    "for ax, pca, data, name in zip(axs, pcas, dataset, names):\n",
    "    results = pca.fit_transform(data)\n",
    "    vars = pca.explained_variance_ratio_\n",
    "    n = len(vars)\n",
    "    ax.bar(range(n), vars)\n",
    "    ax.plot(range(n), vars.cumsum())\n",
    "    ax.set_ylabel(\"Variance Explained (%)\", fontweight='bold',fontsize=12)\n",
    "    ax.set_xlabel(\n",
    "        f\"Principal Component\",\n",
    "        fontweight='bold',\n",
    "        fontsize=12,\n",
    "    )\n",
    "    ax.semilogy()\n",
    "    ax.set_ylim([0.05, 1.5])\n",
    "    ax.set_title(\n",
    "        f\"Explained Variance per Principal Component for {name.title()} data\",\n",
    "        fontweight='bold',\n",
    "        fontsize=16,\n",
    "    )\n",
    "\n",
    "plt.show()"
   ]
  },
  {
   "cell_type": "markdown",
   "metadata": {},
   "source": [
    "The PCA suggests there may be some reduction in components from 6 to 5, but this reduction is not significant such as reducing an order of magnitude, therefore PCA will not be utilized."
   ]
  },
  {
   "cell_type": "markdown",
   "metadata": {},
   "source": [
    "## Model Predictions - Unsupervised Learning"
   ]
  },
  {
   "cell_type": "markdown",
   "metadata": {},
   "source": [
    "The following segment investigates if the profiles follow similar behaviors \n",
    "and if they can be classified into clusters."
   ]
  },
  {
   "cell_type": "code",
   "execution_count": 66,
   "metadata": {},
   "outputs": [],
   "source": [
    "import pathlib\n",
    "\n",
    "import matplotlib.pyplot as plt\n",
    "from sklearn.cluster import KMeans\n",
    "import numpy as np\n",
    "\n",
    "from capstone_tools.data_loaders import load_dataset"
   ]
  },
  {
   "cell_type": "code",
   "execution_count": 76,
   "metadata": {},
   "outputs": [],
   "source": [
    "root = pathlib.Path('data/processed')\n",
    "\n",
    "train_loc = root.joinpath('train')\n",
    "train_data, _ = load_dataset(train_loc)\n",
    "train_data = train_data.values"
   ]
  },
  {
   "cell_type": "code",
   "execution_count": 77,
   "metadata": {},
   "outputs": [],
   "source": [
    "mean_dist = []\n",
    "total_clusters = 30\n",
    "for n in range(1, total_clusters):\n",
    "    clf = KMeans(n_clusters=n)\n",
    "    clf.fit(train_data)\n",
    "    d = np.sqrt(-clf.score(train_data))\n",
    "    mean_dist.append(d)\n"
   ]
  },
  {
   "cell_type": "code",
   "execution_count": 84,
   "metadata": {},
   "outputs": [
    {
     "data": {
      "image/png": "[encoded data removed]",
      "text/plain": [
       "<Figure size 720x864 with 1 Axes>"
      ]
     },
     "metadata": {
      "needs_background": "light"
     },
     "output_type": "display_data"
    }
   ],
   "source": [
    "fix, ax = plt.subplots(1, 1, figsize=(10, 12))\n",
    "ax.plot(range(1, total_clusters), mean_dist)\n",
    "# ax.semilogy()\n",
    "ax.set_ylabel(\n",
    "    \"Mean Distance from Cluster Center\",\n",
    "    fontweight='bold',\n",
    "    fontsize=12\n",
    ")\n",
    "ax.set_xlabel(\n",
    "    \"(n) KMeans Clusters\",\n",
    "    fontweight='bold',\n",
    "    fontsize=12,\n",
    ")\n",
    "ax.semilogy()\n",
    "# ax.set_ylim([0.05, 1.5])\n",
    "ax.set_title(\n",
    "    \"KMean Analysis for Model Data\",\n",
    "    fontweight='bold',\n",
    "    fontsize=16,\n",
    ")\n",
    "plt.show()"
   ]
  },
  {
   "cell_type": "markdown",
   "metadata": {},
   "source": [
    "There seems to be a two sections where KMeans clustering can be utilized. There\n",
    "seems to be deviations from the mean distance scores at 4 and 8 clusters. Moving forward, if unsupervised learning is applied, election of either 4 or 8\n",
    "clusters will be used for the final model."
   ]
  },
  {
   "cell_type": "markdown",
   "metadata": {},
   "source": [
    "## Recommendation Model"
   ]
  },
  {
   "cell_type": "markdown",
   "metadata": {},
   "source": [
    "### Baseline Model"
   ]
  },
  {
   "cell_type": "code",
   "execution_count": 1,
   "metadata": {},
   "outputs": [],
   "source": [
    "%load_ext autoreload"
   ]
  },
  {
   "cell_type": "code",
   "execution_count": 8,
   "metadata": {},
   "outputs": [],
   "source": [
    "%autoreload 2\n",
    "\n",
    "import pathlib\n",
    "\n",
    "from sklearn.naive_bayes import GaussianNB\n",
    "from sklearn.ensemble import (\n",
    "    RandomForestClassifier,\n",
    "    GradientBoostingClassifier,\n",
    "    AdaBoostClassifier,\n",
    ")\n",
    "from sklearn.tree import DecisionTreeClassifier\n",
    "from sklearn.linear_model import LogisticRegression\n",
    "\n",
    "from capstone_tools.data_loaders import load_data_corpus\n",
    "\n",
    "\n",
    "data_loc = pathlib.Path(\"data/processed\")\n",
    "datasets = load_data_corpus(data_loc)"
   ]
  },
  {
   "cell_type": "code",
   "execution_count": null,
   "metadata": {},
   "outputs": [],
   "source": []
  },
  {
   "cell_type": "code",
   "execution_count": null,
   "metadata": {},
   "outputs": [],
   "source": [
    "\n",
    "baseline_clfs = [\n",
    "    (GaussianNB, {}),\n",
    "    (RandomForestClassifier, {\"n_estimators\": 100}),\n",
    "    (GradientBoostingClassifier, {\"n_estimators\": 100, \"learning_rate\": 0.1}),\n",
    "    (AdaBoostClassifier,\n",
    "        {\"n_estimators\": 100, \"max_depth\": 5, \"min_samples_split\": 5}),\n",
    "    (DecisionTreeClassifier, {\"max_depth\": 5, \"min_samples_split\": 5}),\n",
    "    (LogisticRegression, {\"C\": 1}),\n",
    "]\n",
    "baseline_clfs = baseline_clfs[:2] # FIXME\n",
    "\n",
    "for Clf, kwargs in baseline_clfs:\n",
    "    # unpack data - TODO\n",
    "    clf = Clf(**kwargs)\n",
    "    clf.fit(train_data)\n",
    "    preds = clf.predict(train_data)\n",
    "    # Calc train error - TODO\n",
    "\n",
    "    preds = clf.predict(vaild_data)\n",
    "    # Calc valid error - TODO\n",
    "\n",
    "    preds = clf.predict(test_data)\n",
    "    # Calc test error - TODO\n",
    "\n",
    "    "
   ]
  },
  {
   "cell_type": "markdown",
   "metadata": {},
   "source": [
    "### Advanced Model"
   ]
  },
  {
   "cell_type": "code",
   "execution_count": null,
   "metadata": {},
   "outputs": [],
   "source": []
  }
 ],
 "metadata": {
  "interpreter": {
   "hash": "04530a9ddb39872427eeff9b974d5714f7eeffad20a0a6c3c29bc46b0cbab01e"
  },
  "kernelspec": {
   "display_name": "Python 3.9.0 ('pytorch')",
   "language": "python",
   "name": "python3"
  },
  "language_info": {
   "codemirror_mode": {
    "name": "ipython",
    "version": 3
   },
   "file_extension": ".py",
   "mimetype": "text/x-python",
   "name": "python",
   "nbconvert_exporter": "python",
   "pygments_lexer": "ipython3",
   "version": "3.9.0"
  }
 },
 "nbformat": 4,
 "nbformat_minor": 4
}
